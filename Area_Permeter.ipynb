{
 "cells": [
  {
   "cell_type": "code",
   "execution_count": null,
   "metadata": {},
   "outputs": [],
   "source": [
    "#Area & Perimeter Program\n",
    "\n",
    "\n",
    "\n",
    "print(\"The Area and Perimeter program\")\n",
    "\n",
    "\n",
    "#Taking inputs\n",
    "length=int(input(\"Please enter the length:\"))\n",
    "\n",
    "width=int(input(\"Please enter the width:\"))\n",
    "\n",
    "\n",
    "#to calculate the area\n",
    "area=length*width\n",
    "\n",
    "#to calculate the perimeter\n",
    "perimeter=((length+width)/0.5)\n",
    "\n",
    "print()\n",
    "\n",
    "\n",
    "#to print results\n",
    "print(\"Area= \", area)\n",
    "print(\"Perimeter= \",perimeter)\n",
    "print()\n",
    "\n",
    "print(\"Thanks for using this program!\")"
   ]
  }
 ],
 "metadata": {
  "language_info": {
   "name": "python"
  }
 },
 "nbformat": 4,
 "nbformat_minor": 2
}
